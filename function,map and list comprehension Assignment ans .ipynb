{
 "cells": [
  {
   "cell_type": "markdown",
   "metadata": {
    "id": "H54_tYeGUqLI"
   },
   "source": [
    "### `Q1` Write a Python function called `greet` that takes a name as a parameter and prints a greeting message, such as \"Hello, [name]!\" Call the function with your own name to test it.\n",
    "\n",
    "input\n",
    "```\n",
    "Anuj\n",
    "```\n",
    "output\n",
    "```\n",
    "Hello Anuj\n",
    "```"
   ]
  },
  {
   "cell_type": "code",
   "execution_count": 21,
   "metadata": {},
   "outputs": [
    {
     "name": "stdout",
     "output_type": "stream",
     "text": [
      "Hello Rohit\n"
     ]
    }
   ],
   "source": [
    "# write code here\n",
    "def greet(name):\n",
    "    \n",
    "    print(f\"Hello {name}\")\n",
    "greet(\"Rohit\")\n"
   ]
  },
  {
   "cell_type": "markdown",
   "metadata": {
    "id": "2thcaYinVU5s"
   },
   "source": [
    "### `Q2` Write a Python function called `even_or_odd` that takes an integer as input and returns \"Even\" if the number is even and \"Odd\" if the number is odd.\n",
    "\n",
    "input\n",
    "```\n",
    "5\n",
    "```\n",
    "output\n",
    "```\n",
    "odd\n",
    "```"
   ]
  },
  {
   "cell_type": "code",
   "execution_count": 13,
   "metadata": {},
   "outputs": [
    {
     "name": "stdout",
     "output_type": "stream",
     "text": [
      "The number 5 is Odd.\n"
     ]
    }
   ],
   "source": [
    "# write code here\n",
    "def even_or_odd(number):\n",
    "    if number % 2 == 0:\n",
    "        return \"Even\"\n",
    "    else:\n",
    "        return \"Odd\"\n",
    "input_number = 5\n",
    "result = even_or_odd(input_number)\n",
    "print(f\"The number {input_number} is {result}.\")\n",
    "\n"
   ]
  },
  {
   "cell_type": "markdown",
   "metadata": {
    "id": "Y_h93tnlVnjz"
   },
   "source": [
    "### `Q3` Write a Python function called `calculate_factorial` that takes a non-negative integer as input and returns its factorial. If the input is negative, return a message indicating that the factorial is undefined. Test the function with various inputs.\n",
    "\n",
    "input\n",
    "```\n",
    "5\n",
    "```\n",
    "output\n",
    "```\n",
    "120\n",
    "```"
   ]
  },
  {
   "cell_type": "code",
   "execution_count": 11,
   "metadata": {
    "id": "e_GaYj5XV21c"
   },
   "outputs": [
    {
     "name": "stdout",
     "output_type": "stream",
     "text": [
      "The factorial of 5 is 120\n"
     ]
    }
   ],
   "source": [
    "# write code here\n",
    "def calculate_factorial(n):\n",
    "\n",
    "    if n < 0:\n",
    "        return \"Factorial is undefined for negative numbers.\"\n",
    "    elif n == 0:\n",
    "        return 1\n",
    "    else:\n",
    "        factorial = 1\n",
    "        for i in range(1, n + 1):\n",
    "            factorial *= i\n",
    "        return factorial\n",
    "input_number = 5\n",
    "result = calculate_factorial(input_number)\n",
    "print(f\"The factorial of {input_number} is {result}\")\n"
   ]
  },
  {
   "cell_type": "markdown",
   "metadata": {
    "id": "5Tw9blcFV4oc"
   },
   "source": [
    "### `Q4` Write a Python function called `max_of_three` that takes three numbers as input and returns the maximum of the three.\n",
    "\n",
    "input\n",
    "```\n",
    "23,45,12\n",
    "```\n",
    "output\n",
    "\n",
    "```\n",
    "45\n",
    "```"
   ]
  },
  {
   "cell_type": "code",
   "execution_count": 9,
   "metadata": {
    "id": "-h50_3WNWRJg"
   },
   "outputs": [
    {
     "name": "stdout",
     "output_type": "stream",
     "text": [
      "The maximum of is: 45\n"
     ]
    }
   ],
   "source": [
    "# write code here\n",
    "def max_of_three(a, b, c):\n",
    "    return max(a, b, c)\n",
    "result = max_of_three(23, 45, 12)\n",
    "print(f\"The maximum of is: {result}\")\n"
   ]
  },
  {
   "cell_type": "markdown",
   "metadata": {
    "id": "byOtkLIdWTgS"
   },
   "source": [
    "### `Q5` Write a Python function called `calculate_area` that takes the radius of a circle as input and returns the area of the circle.\n",
    "\n",
    "input\n",
    "```\n",
    "5\n",
    "```\n",
    "output\n",
    "```\n",
    "78.5\n",
    "```"
   ]
  },
  {
   "cell_type": "code",
   "execution_count": null,
   "metadata": {
    "id": "nXHD_wQpWzuj"
   },
   "outputs": [],
   "source": [
    "# write code here"
   ]
  },
  {
   "cell_type": "markdown",
   "metadata": {
    "id": "E9qVgsxBXEhi"
   },
   "source": [
    "### `Q6` Write a Python function called `is_prime` that takes an integer as input and returns True if the number is prime, and False otherwise.\n",
    "\n",
    "input\n",
    "```\n",
    "5\n",
    "```\n",
    "output\n",
    "```\n",
    "True\n",
    "```\n"
   ]
  },
  {
   "cell_type": "code",
   "execution_count": 5,
   "metadata": {
    "id": "qbgTTuc2XWDS"
   },
   "outputs": [
    {
     "name": "stdout",
     "output_type": "stream",
     "text": [
      "5 is a Prime number:True\n"
     ]
    }
   ],
   "source": [
    "# write code here\n",
    "\n",
    "def isPrime(N):\n",
    "    for number in range(2, N):\n",
    "        if N % number == 0:\n",
    "            return False\n",
    "    return True\n",
    "\n",
    "\n",
    "input_number = 5\n",
    "output = isPrime(input_number)\n",
    "print(\"{} is a Prime number:{}\".format(input_number, output))"
   ]
  },
  {
   "cell_type": "markdown",
   "metadata": {
    "id": "UczDqUu6XxRA"
   },
   "source": [
    "### `Q7` Write a Python program to double each element in a list using a lambda function with the map() function.\n",
    "input\n",
    "\n",
    "```\n",
    "[1,2,3,4,5]\n",
    "\n",
    "```\n",
    "\n",
    "\n",
    "output\n",
    "```\n",
    "[2,4,6,8,10]\n",
    "```\n",
    "\n"
   ]
  },
  {
   "cell_type": "code",
   "execution_count": 4,
   "metadata": {
    "id": "ktyr3py7YKZD"
   },
   "outputs": [
    {
     "name": "stdout",
     "output_type": "stream",
     "text": [
      "Double List is: [2, 4, 6, 8, 10]\n"
     ]
    }
   ],
   "source": [
    "# write code here\n",
    "my_list = [1, 2, 3, 4, 5]\n",
    "new_list = list(map(lambda x: x * 2, my_list))\n",
    "print(\"Double List is:\", new_list)\n"
   ]
  },
  {
   "cell_type": "markdown",
   "metadata": {
    "id": "IDdDQZWEYMpe"
   },
   "source": [
    "### `Q8` Write a Python program to sort a list of strings based on their length using a lambda function.\n",
    "\n",
    "input\n",
    "```\n",
    "[\"apple\", \"banana\", \"orange\", \"strawberry\", \"kiwi\"]\n",
    "\n",
    "```\n",
    "output\n",
    "```\n",
    "['kiwi', 'apple', 'banana', 'orange', 'strawberry']\n",
    "```"
   ]
  },
  {
   "cell_type": "code",
   "execution_count": 1,
   "metadata": {
    "id": "13y3M6dlYikL"
   },
   "outputs": [
    {
     "name": "stdout",
     "output_type": "stream",
     "text": [
      "['kiwi', 'apple', 'banana', 'orange', 'strawberry']\n"
     ]
    }
   ],
   "source": [
    "# write code here\n",
    "input_list = [\"apple\", \"banana\", \"orange\", \"strawberry\", \"kiwi\"]\n",
    "\n",
    "sorted_list = sorted(input_list, key=lambda x: len(x))\n",
    "\n",
    "print(sorted_list)\n"
   ]
  },
  {
   "cell_type": "markdown",
   "metadata": {
    "id": "nOrV1We5YkiZ"
   },
   "source": [
    "### `Q9` Write a Python program to create a list of squared numbers from 1 to 10 using list comprehension\n",
    "\n"
   ]
  },
  {
   "cell_type": "code",
   "execution_count": 2,
   "metadata": {
    "id": "ij1pCfNOY7xn"
   },
   "outputs": [
    {
     "name": "stdout",
     "output_type": "stream",
     "text": [
      "The squared numbers from 1 to 10 are: [1, 4, 9, 16, 25, 36, 49, 64, 81, 100]\n"
     ]
    }
   ],
   "source": [
    "# write code here\n",
    "squared_numbers = [x**2 for x in range(1, 11)]\n",
    "\n",
    "print(f\"The squared numbers from 1 to 10 are: {squared_numbers}\")\n"
   ]
  },
  {
   "cell_type": "markdown",
   "metadata": {
    "id": "y_91CcJ6Y9pP"
   },
   "source": [
    "### `Q10` Write a Python program to create a list of even numbers from 1 to 20 using list comprehension."
   ]
  },
  {
   "cell_type": "code",
   "execution_count": 3,
   "metadata": {
    "id": "TQJ9s_IXZFlf"
   },
   "outputs": [
    {
     "name": "stdout",
     "output_type": "stream",
     "text": [
      "Even numbers from 1 to 20: [2, 4, 6, 8, 10, 12, 14, 16, 18, 20]\n"
     ]
    }
   ],
   "source": [
    "# write code here\n",
    "even_numbers = [x for x in range(1, 21) if x % 2 == 0]\n",
    "print(\"Even numbers from 1 to 20:\", even_numbers)\n"
   ]
  }
 ],
 "metadata": {
  "colab": {
   "provenance": []
  },
  "kernelspec": {
   "display_name": "Python 3 (ipykernel)",
   "language": "python",
   "name": "python3"
  },
  "language_info": {
   "codemirror_mode": {
    "name": "ipython",
    "version": 3
   },
   "file_extension": ".py",
   "mimetype": "text/x-python",
   "name": "python",
   "nbconvert_exporter": "python",
   "pygments_lexer": "ipython3",
   "version": "3.11.5"
  }
 },
 "nbformat": 4,
 "nbformat_minor": 1
}
